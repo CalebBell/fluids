{
 "cells": [
  {
   "cell_type": "markdown",
   "metadata": {},
   "source": [
    "# 7.7 Laminar flow in Valves, Fittings, and Pipe - System from Example 7.6"
   ]
  },
  {
   "cell_type": "markdown",
   "metadata": {},
   "source": [
    "SAE oil is discharged at 15 degrees Celsius from a tank with 7 m of head to atmosphere through:\n",
    "\n",
    "* 60 meters of 80 mm schedule 40 pipe\n",
    "* Six 80 mm standard 90 degree threaded elbows\n",
    "* One 80 mm flanged ball valve, with a 60 mm diameter seat, 16 degree conical inlet and 30 degree conival outlet.\n",
    "* The entrance is sharp-edged and flush with the tank\n",
    "\n",
    "This is the same problem as 7.6, except the properties of the fluid are sufficiently viscous to put it into the laminar regime although not by much."
   ]
  },
  {
   "cell_type": "code",
   "execution_count": 1,
   "metadata": {
    "collapsed": false
   },
   "outputs": [
    {
     "name": "stdout",
     "output_type": "stream",
     "text": [
      "Flow rate = 792.547439913 liter / minute, Reynolds number = 100000.0\n",
      "Flow rate = 494.99657488 liter / minute, Reynolds number = 2421.30022376 dimensionless\n",
      "Flow rate = 520.378830861 liter / minute, Reynolds number = 1512.25687847 dimensionless\n",
      "Flow rate = 532.882614107 liter / minute, Reynolds number = 1589.8018417 dimensionless\n",
      "Flow rate = 538.913006799 liter / minute, Reynolds number = 1628.00196909 dimensionless\n",
      "Flow rate = 541.792113308 liter / minute, Reynolds number = 1646.42533461 dimensionless\n",
      "Flow rate = 543.160105867 liter / minute, Reynolds number = 1655.22125127 dimensionless\n",
      "Flow rate = 543.808622208 liter / minute, Reynolds number = 1659.40058556 dimensionless\n",
      "Flow rate = 544.115729329 liter / minute, Reynolds number = 1661.38185846 dimensionless\n",
      "Flow rate = 544.26108676 liter / minute, Reynolds number = 1662.32009698 dimensionless\n",
      "Flow rate = 544.329869541 liter / minute, Reynolds number = 1662.76417637 dimensionless\n",
      "Flow rate = 544.362413666 liter / minute, Reynolds number = 1662.97431364 dimensionless\n",
      "Flow rate = 544.377810875 liter / minute, Reynolds number = 1663.07373873 dimensionless\n",
      "Flow rate = 544.385095384 liter / minute, Reynolds number = 1663.12077852 dimensionless\n",
      "Flow rate = 544.388541686 liter / minute, Reynolds number = 1663.14303332 dimensionless\n",
      "Flow rate = 544.390172122 liter / minute, Reynolds number = 1663.15356207 dimensionless\n",
      "Flow rate = 544.390943476 liter / minute, Reynolds number = 1663.15854319 dimensionless\n",
      "Flow rate = 544.391308399 liter / minute, Reynolds number = 1663.16089974 dimensionless\n",
      "Flow rate = 544.391481043 liter / minute, Reynolds number = 1663.16201461 dimensionless\n",
      "Flow rate = 544.39156272 liter / minute, Reynolds number = 1663.16254205 dimensionless\n"
     ]
    }
   ],
   "source": [
    "from fluids.units import *\n",
    "from math import pi\n",
    "rho = 875.*u.kg/u.m**3\n",
    "mu = 78*u.cP\n",
    "\n",
    "H = 7*u.m\n",
    "L = 60*u.m\n",
    "NPS, D_pipe, Do_pipe, t = nearest_pipe(Do=80*u.mm)\n",
    "\n",
    "fd = 0.017\n",
    "Re = 1E5\n",
    "for i in range(20):\n",
    "    K = K_from_f(fd=fd, L=L, D=D_pipe)\n",
    "    K += entrance_sharp()\n",
    "    K += exit_normal()\n",
    "    K += 6*bend_rounded(D_pipe, angle=90*u.degrees, fd=fd, bend_diameters=0.65)\n",
    "    ball_valve_angle = 0.5*(15+30)*u.degrees # use the average angle\n",
    "    K += K_ball_valve_Crane(D1=D_pipe, D2=60*u.mm, angle=ball_valve_angle, fd=fd)\n",
    "\n",
    "    v = (2*u.gravity*H/K)**0.5\n",
    "    Q = v*pi/4*D_pipe**2\n",
    "    print('Flow rate = %s, Reynolds number = %s' %(Q.to(u.L/u.min), Re))\n",
    "    Re = Reynolds(D=D_pipe, rho=rho, mu=mu, V=v)\n",
    "    fd = friction_factor(Re=Re, eD=0.0018*u.inch/D_pipe)"
   ]
  },
  {
   "cell_type": "markdown",
   "metadata": {},
   "source": [
    "No solution is actually presented in the example; but the result of their initial guess of a velocity of 1.5 m/s gives 511.2 L/min."
   ]
  }
 ],
 "metadata": {
  "kernelspec": {
   "display_name": "Python 3",
   "language": "python",
   "name": "python3"
  },
  "language_info": {
   "codemirror_mode": {
    "name": "ipython",
    "version": 3
   },
   "file_extension": ".py",
   "mimetype": "text/x-python",
   "name": "python",
   "nbconvert_exporter": "python",
   "pygments_lexer": "ipython3",
   "version": "3.7.5"
  }
 },
 "nbformat": 4,
 "nbformat_minor": 1
}
