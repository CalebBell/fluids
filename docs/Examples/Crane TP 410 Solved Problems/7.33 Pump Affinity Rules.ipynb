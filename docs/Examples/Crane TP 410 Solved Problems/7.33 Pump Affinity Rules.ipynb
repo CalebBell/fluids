{
 "cells": [
  {
   "cell_type": "markdown",
   "metadata": {},
   "source": [
    "# 7.33 Pump Affinity Rules"
   ]
  },
  {
   "cell_type": "markdown",
   "metadata": {},
   "source": [
    "Given: For the 6\" impeller trim on the curve below, the pump produces 126' of head and 400 gpm while running at 3500 rpm. The brake horsepower is 17.5 hp in that case.\n",
    "\n",
    "Find the flow rate, head, and power of this operating point if the speed is changed to 1700 rpm."
   ]
  },
  {
   "cell_type": "code",
   "execution_count": 1,
   "metadata": {
    "collapsed": false
   },
   "outputs": [
    {
     "data": {
      "text/plain": [
       "(194.28571428571428 <Unit('gallon / minute')>,\n",
       " 29.725714285714286 <Unit('foot')>,\n",
       " 2.0053061224489794 <Unit('horsepower')>)"
      ]
     },
     "execution_count": 1,
     "metadata": {},
     "output_type": "execute_result"
    }
   ],
   "source": [
    "from fluids.units import *\n",
    "head1 = 126*u.foot\n",
    "Q1 = 400*u.gal/u.min\n",
    "rpm1 = 3500*u.rpm\n",
    "power1 = 17.5*u.hp\n",
    "\n",
    "rpm2 = 1700*u.rpm\n",
    "\n",
    "Q2 = rpm2/rpm1*Q1\n",
    "head2 = head1*(rpm2/rpm1)**2\n",
    "power2 = power1*(rpm2/rpm1)**3\n",
    "\n",
    "Q2, head2, power2"
   ]
  },
  {
   "cell_type": "markdown",
   "metadata": {},
   "source": [
    "The values match those given in Crane."
   ]
  }
 ],
 "metadata": {
  "kernelspec": {
   "display_name": "Python 3",
   "language": "python",
   "name": "python3"
  },
  "language_info": {
   "codemirror_mode": {
    "name": "ipython",
    "version": 3
   },
   "file_extension": ".py",
   "mimetype": "text/x-python",
   "name": "python",
   "nbconvert_exporter": "python",
   "pygments_lexer": "ipython3",
   "version": "3.8.7"
  }
 },
 "nbformat": 4,
 "nbformat_minor": 1
}
